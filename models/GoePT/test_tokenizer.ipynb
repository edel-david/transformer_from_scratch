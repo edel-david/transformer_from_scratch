{
 "cells": [
  {
   "cell_type": "code",
   "execution_count": 106,
   "metadata": {},
   "outputs": [],
   "source": [
    "import wandb\n",
    "from tokenizers import Tokenizer\n",
    "from model import GoePT\n",
    "import json\n",
    "import os\n",
    "import cupy as cp\n",
    "import torch\n",
    "wandb.init(mode=\"disabled\")\n",
    "\n",
    "checkpoint_filename = \"goe_pt_iter_4.json\"\n",
    "with open(\n",
    "    os.path.join(\"../../checkpoints\", checkpoint_filename),\n",
    "    mode=\"r\",\n",
    "    encoding=\"utf-8\",\n",
    ") as in_file:\n",
    "    state_dict = json.load(in_file)\n",
    "model_loaded = GoePT.from_state_dict(state_dict)\n",
    "\n",
    "\n",
    "\n",
    "tokenizer: Tokenizer = Tokenizer.from_file(\"../tokenizers/goe_pt/goe_pt_tokenizer.json\")\n",
    "tokenizer.enable_padding(length=256)\n",
    "\n",
    "\n"
   ]
  },
  {
   "cell_type": "code",
   "execution_count": 113,
   "metadata": {},
   "outputs": [
    {
     "name": "stdout",
     "output_type": "stream",
     "text": [
      "[283, 2815, 2380, 172, 36, 37, 27, 3, 3, 0, 0, 0, 0, 0, 0, 0, 0, 0, 0, 0, 0, 0, 0, 0, 0, 0, 0, 0, 0, 0, 0, 0, 0, 0, 0, 0, 0, 0, 0, 0, 0, 0, 0, 0, 0, 0, 0, 0, 0, 0, 0, 0, 0, 0, 0, 0, 0, 0, 0, 0, 0, 0, 0, 0, 0, 0, 0, 0, 0, 0, 0, 0, 0, 0, 0, 0, 0, 0, 0, 0, 0, 0, 0, 0, 0, 0, 0, 0, 0, 0, 0, 0, 0, 0, 0, 0, 0, 0, 0, 0, 0, 0, 0, 0, 0, 0, 0, 0, 0, 0, 0, 0, 0, 0, 0, 0, 0, 0, 0, 0, 0, 0, 0, 0, 0, 0, 0, 0, 0, 0, 0, 0, 0, 0, 0, 0, 0, 0, 0, 0, 0, 0, 0, 0, 0, 0, 0, 0, 0, 0, 0, 0, 0, 0, 0, 0, 0, 0, 0, 0, 0, 0, 0, 0, 0, 0, 0, 0, 0, 0, 0, 0, 0, 0, 0, 0, 0, 0, 0, 0, 0, 0, 0, 0, 0, 0, 0, 0, 0, 0, 0, 0, 0, 0, 0, 0, 0, 0, 0, 0, 0, 0, 0, 0, 0, 0, 0, 0, 0, 0, 0, 0, 0, 0, 0, 0, 0, 0, 0, 0, 0, 0, 0, 0, 0, 0, 0, 0, 0, 0, 0, 0, 0, 0, 0, 0, 0, 0, 0, 0, 0, 0, 0, 0, 0, 0, 0, 0, 0, 0, 0, 0, 0, 0, 0, 0]\n",
      "[[[-0.00323239 -0.00447031  0.00275304 ...  0.00340301 -0.00602526\n",
      "   -0.00182651]]]\n",
      "[  80 1839 7389 3614 3929 3693 2960 2583 6690 1201]\n",
      "['\\n', 'llig', 'utzend', ' Kette', ' Gleich', ' Ungeh', ' Majestät', ' rechte', ' geschenkt', ' Dien']\n"
     ]
    }
   ],
   "source": [
    "text = \"\"\"FAUST GEGEN KOPF!!\"\"\"\n",
    "tokenized = tokenizer.encode(text)\n",
    "print(tokenized.ids)\n",
    "padded_tokenized = cp.array(tokenized.ids)\n",
    "tokenized = padded_tokenized.reshape((1, -1))\n",
    "logits, _ = model_loaded.forward(tokenized)\n",
    "\n",
    "\n",
    "print(logits)\n",
    "out = torch.topk(torch.tensor(logits),10,sorted=True)[1]\n",
    "out = out.cpu().numpy().flatten()\n",
    "print(out)\n",
    "out = [tokenizer.decode((val,)) for val in out]\n",
    "print(out)\n",
    "\n"
   ]
  }
 ],
 "metadata": {
  "kernelspec": {
   "display_name": "ap",
   "language": "python",
   "name": "python3"
  },
  "language_info": {
   "codemirror_mode": {
    "name": "ipython",
    "version": 3
   },
   "file_extension": ".py",
   "mimetype": "text/x-python",
   "name": "python",
   "nbconvert_exporter": "python",
   "pygments_lexer": "ipython3",
   "version": "3.12.2"
  }
 },
 "nbformat": 4,
 "nbformat_minor": 2
}
