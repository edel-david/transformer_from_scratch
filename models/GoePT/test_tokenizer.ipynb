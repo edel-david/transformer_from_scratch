{
 "cells": [
  {
   "cell_type": "code",
   "execution_count": 1,
   "metadata": {},
   "outputs": [],
   "source": [
    "import wandb\n",
    "from tokenizers import Tokenizer\n",
    "from model import GoePT\n",
    "import json\n",
    "import os\n",
    "import cupy as cp\n",
    "import torch\n",
    "wandb.init(mode=\"disabled\")\n",
    "\n",
    "checkpoint_filename = \"goe_sixthree.json\"\n",
    "with open(\n",
    "    os.path.join(\"../../checkpoints\", checkpoint_filename),\n",
    "    mode=\"r\",\n",
    "    encoding=\"utf-8\",\n",
    ") as in_file:\n",
    "    state_dict = json.load(in_file)\n",
    "model_loaded = GoePT.from_state_dict(state_dict)\n",
    "\n",
    "\n",
    "\n",
    "tokenizer: Tokenizer = Tokenizer.from_file(\"../tokenizers/goe_pt/goe_pt_tokenizer.json\")\n",
    "# tokenizer.enable_padding(length=256)\n",
    "\n",
    "\n"
   ]
  },
  {
   "cell_type": "code",
   "execution_count": 2,
   "metadata": {},
   "outputs": [
    {
     "name": "stdout",
     "output_type": "stream",
     "text": [
      "[1577, 1459]\n",
      "[[1577 1459]]\n"
     ]
    }
   ],
   "source": [
    "text = \"\"\"Faust ging\"\"\"\n",
    "tokenized = tokenizer.encode(text)\n",
    "print(tokenized.ids)\n",
    "padded_tokenized = cp.array(tokenized.ids)\n",
    "tokenized = padded_tokenized.reshape((1, -1))\n",
    "print(tokenized)"
   ]
  },
  {
   "cell_type": "code",
   "execution_count": 5,
   "metadata": {},
   "outputs": [
    {
     "ename": "ValueError",
     "evalue": "operands could not be broadcast together with shapes (1, 2, 1152) (256, 1152) (1, 2, 1152)",
     "output_type": "error",
     "traceback": [
      "\u001b[0;31m---------------------------------------------------------------------------\u001b[0m",
      "\u001b[0;31mValueError\u001b[0m                                Traceback (most recent call last)",
      "Cell \u001b[0;32mIn[5], line 2\u001b[0m\n\u001b[0;32m----> 2\u001b[0m logits, _ \u001b[38;5;241m=\u001b[39m \u001b[43mmodel_loaded\u001b[49m\u001b[38;5;241;43m.\u001b[39;49m\u001b[43mforward\u001b[49m\u001b[43m(\u001b[49m\u001b[43mtokenized\u001b[49m\u001b[43m)\u001b[49m\n\u001b[1;32m      5\u001b[0m \u001b[38;5;28mprint\u001b[39m(logits)\n\u001b[1;32m      6\u001b[0m out \u001b[38;5;241m=\u001b[39m torch\u001b[38;5;241m.\u001b[39mtopk(torch\u001b[38;5;241m.\u001b[39mtensor(logits),\u001b[38;5;241m10\u001b[39m,\u001b[38;5;28msorted\u001b[39m\u001b[38;5;241m=\u001b[39m\u001b[38;5;28;01mTrue\u001b[39;00m)[\u001b[38;5;241m1\u001b[39m]\n",
      "File \u001b[0;32m~/dev/transformer_from_scratch/models/GoePT/model.py:149\u001b[0m, in \u001b[0;36mGoePT.forward\u001b[0;34m(self, idx, targets)\u001b[0m\n\u001b[1;32m    147\u001b[0m x \u001b[38;5;241m=\u001b[39m \u001b[38;5;28mself\u001b[39m\u001b[38;5;241m.\u001b[39mtransformer[\u001b[38;5;124m\"\u001b[39m\u001b[38;5;124mdrop\u001b[39m\u001b[38;5;124m\"\u001b[39m]\u001b[38;5;241m.\u001b[39mforward(tok_emb \u001b[38;5;241m+\u001b[39m pos_emb, train)\n\u001b[1;32m    148\u001b[0m \u001b[38;5;28;01mfor\u001b[39;00m block \u001b[38;5;129;01min\u001b[39;00m \u001b[38;5;28mself\u001b[39m\u001b[38;5;241m.\u001b[39mtransformer[\u001b[38;5;124m\"\u001b[39m\u001b[38;5;124mh\u001b[39m\u001b[38;5;124m\"\u001b[39m]:\n\u001b[0;32m--> 149\u001b[0m     x \u001b[38;5;241m=\u001b[39m \u001b[43mblock\u001b[49m\u001b[38;5;241;43m.\u001b[39;49m\u001b[43mforward\u001b[49m\u001b[43m(\u001b[49m\u001b[43mx\u001b[49m\u001b[43m,\u001b[49m\u001b[43m \u001b[49m\u001b[43mtrain\u001b[49m\u001b[43m)\u001b[49m\n\u001b[1;32m    150\u001b[0m wandb\u001b[38;5;241m.\u001b[39mlog({\u001b[38;5;124m\"\u001b[39m\u001b[38;5;124mx_after_block_mean\u001b[39m\u001b[38;5;124m\"\u001b[39m: x\u001b[38;5;241m.\u001b[39mmean()\u001b[38;5;241m.\u001b[39mitem()}, step\u001b[38;5;241m=\u001b[39mstep)\n\u001b[1;32m    151\u001b[0m x \u001b[38;5;241m=\u001b[39m \u001b[38;5;28mself\u001b[39m\u001b[38;5;241m.\u001b[39mtransformer[\u001b[38;5;124m\"\u001b[39m\u001b[38;5;124mln_f\u001b[39m\u001b[38;5;124m\"\u001b[39m]\u001b[38;5;241m.\u001b[39mforward(x)\n",
      "File \u001b[0;32m~/dev/transformer_from_scratch/models/GoePT/layers.py:753\u001b[0m, in \u001b[0;36mBlock.forward\u001b[0;34m(self, input, train)\u001b[0m\n\u001b[1;32m    749\u001b[0m \u001b[38;5;28minput\u001b[39m \u001b[38;5;241m=\u001b[39m cp\u001b[38;5;241m.\u001b[39masanyarray(\u001b[38;5;28minput\u001b[39m)\n\u001b[1;32m    751\u001b[0m x \u001b[38;5;241m=\u001b[39m \u001b[38;5;28mself\u001b[39m\u001b[38;5;241m.\u001b[39mln_1\u001b[38;5;241m.\u001b[39mforward(\u001b[38;5;28minput\u001b[39m)\n\u001b[0;32m--> 753\u001b[0m x \u001b[38;5;241m=\u001b[39m \u001b[38;5;28;43mself\u001b[39;49m\u001b[38;5;241;43m.\u001b[39;49m\u001b[43mattn\u001b[49m\u001b[38;5;241;43m.\u001b[39;49m\u001b[43mforward\u001b[49m\u001b[43m(\u001b[49m\u001b[43mx\u001b[49m\u001b[43m,\u001b[49m\u001b[43m \u001b[49m\u001b[43mtrain\u001b[49m\u001b[43m)\u001b[49m[\u001b[38;5;241m0\u001b[39m]\n\u001b[1;32m    755\u001b[0m x \u001b[38;5;241m=\u001b[39m \u001b[38;5;28minput\u001b[39m \u001b[38;5;241m+\u001b[39m x\n\u001b[1;32m    757\u001b[0m residual \u001b[38;5;241m=\u001b[39m copy\u001b[38;5;241m.\u001b[39mdeepcopy(x)\n",
      "File \u001b[0;32m~/dev/transformer_from_scratch/models/GoePT/layers.py:542\u001b[0m, in \u001b[0;36mMultiHeadAttention.forward\u001b[0;34m(self, input, train)\u001b[0m\n\u001b[1;32m    538\u001b[0m \u001b[38;5;28mself\u001b[39m\u001b[38;5;241m.\u001b[39minput \u001b[38;5;241m=\u001b[39m cp\u001b[38;5;241m.\u001b[39masanyarray(\u001b[38;5;28minput\u001b[39m)\n\u001b[1;32m    540\u001b[0m B, T, C \u001b[38;5;241m=\u001b[39m \u001b[38;5;28mself\u001b[39m\u001b[38;5;241m.\u001b[39minput\u001b[38;5;241m.\u001b[39mshape\n\u001b[0;32m--> 542\u001b[0m q, k, v \u001b[38;5;241m=\u001b[39m cp\u001b[38;5;241m.\u001b[39msplit(\u001b[38;5;28;43mself\u001b[39;49m\u001b[38;5;241;43m.\u001b[39;49m\u001b[43mc_attn\u001b[49m\u001b[38;5;241;43m.\u001b[39;49m\u001b[43mforward\u001b[49m\u001b[43m(\u001b[49m\u001b[38;5;28;43mself\u001b[39;49m\u001b[38;5;241;43m.\u001b[39;49m\u001b[43minput\u001b[49m\u001b[43m)\u001b[49m, \u001b[38;5;241m3\u001b[39m, axis\u001b[38;5;241m=\u001b[39m\u001b[38;5;241m2\u001b[39m)\n\u001b[1;32m    544\u001b[0m k \u001b[38;5;241m=\u001b[39m k\u001b[38;5;241m.\u001b[39mreshape((B, T, \u001b[38;5;28mself\u001b[39m\u001b[38;5;241m.\u001b[39mn_heads, C \u001b[38;5;241m/\u001b[39m\u001b[38;5;241m/\u001b[39m \u001b[38;5;28mself\u001b[39m\u001b[38;5;241m.\u001b[39mn_heads))\u001b[38;5;241m.\u001b[39mtranspose(\n\u001b[1;32m    545\u001b[0m     \u001b[38;5;241m0\u001b[39m, \u001b[38;5;241m2\u001b[39m, \u001b[38;5;241m1\u001b[39m, \u001b[38;5;241m3\u001b[39m\n\u001b[1;32m    546\u001b[0m )  \u001b[38;5;66;03m# (B, nh, T, hs)\u001b[39;00m\n\u001b[1;32m    547\u001b[0m q \u001b[38;5;241m=\u001b[39m q\u001b[38;5;241m.\u001b[39mreshape((B, T, \u001b[38;5;28mself\u001b[39m\u001b[38;5;241m.\u001b[39mn_heads, C \u001b[38;5;241m/\u001b[39m\u001b[38;5;241m/\u001b[39m \u001b[38;5;28mself\u001b[39m\u001b[38;5;241m.\u001b[39mn_heads))\u001b[38;5;241m.\u001b[39mtranspose(\n\u001b[1;32m    548\u001b[0m     \u001b[38;5;241m0\u001b[39m, \u001b[38;5;241m2\u001b[39m, \u001b[38;5;241m1\u001b[39m, \u001b[38;5;241m3\u001b[39m\n\u001b[1;32m    549\u001b[0m )  \u001b[38;5;66;03m# (B, nh, T, hs)\u001b[39;00m\n",
      "File \u001b[0;32m~/dev/transformer_from_scratch/models/GoePT/layers.py:150\u001b[0m, in \u001b[0;36mLinear.forward\u001b[0;34m(self, input)\u001b[0m\n\u001b[1;32m    148\u001b[0m output \u001b[38;5;241m=\u001b[39m \u001b[38;5;28mself\u001b[39m\u001b[38;5;241m.\u001b[39m_multi_dim_matmul(\u001b[38;5;28mself\u001b[39m\u001b[38;5;241m.\u001b[39minput, \u001b[38;5;28mself\u001b[39m\u001b[38;5;241m.\u001b[39mweight)\n\u001b[1;32m    149\u001b[0m \u001b[38;5;28;01mif\u001b[39;00m \u001b[38;5;28mself\u001b[39m\u001b[38;5;241m.\u001b[39muse_bias:\n\u001b[0;32m--> 150\u001b[0m     \u001b[43moutput\u001b[49m\u001b[43m \u001b[49m\u001b[38;5;241;43m+\u001b[39;49m\u001b[38;5;241;43m=\u001b[39;49m\u001b[43m \u001b[49m\u001b[38;5;28;43mself\u001b[39;49m\u001b[38;5;241;43m.\u001b[39;49m\u001b[43mbias\u001b[49m\n\u001b[1;32m    151\u001b[0m \u001b[38;5;28;01mreturn\u001b[39;00m output\n",
      "File \u001b[0;32mcupy/_core/core.pyx:1393\u001b[0m, in \u001b[0;36mcupy._core.core._ndarray_base.__iadd__\u001b[0;34m()\u001b[0m\n",
      "File \u001b[0;32mcupy/_core/_kernel.pyx:1315\u001b[0m, in \u001b[0;36mcupy._core._kernel.ufunc.__call__\u001b[0;34m()\u001b[0m\n",
      "File \u001b[0;32mcupy/_core/internal.pyx:381\u001b[0m, in \u001b[0;36mcupy._core.internal._broadcast_core\u001b[0;34m()\u001b[0m\n",
      "\u001b[0;31mValueError\u001b[0m: operands could not be broadcast together with shapes (1, 2, 1152) (256, 1152) (1, 2, 1152)"
     ]
    }
   ],
   "source": [
    "\n",
    "logits, _ = model_loaded.forward(tokenized)\n",
    "\n",
    "\n",
    "print(logits)\n",
    "out = torch.topk(torch.tensor(logits),10,sorted=True)[1]\n",
    "out = out.cpu().numpy().flatten()\n",
    "print(out)\n",
    "out = [tokenizer.decode((val,)) for val in out]\n",
    "print(out)\n",
    "\n"
   ]
  }
 ],
 "metadata": {
  "kernelspec": {
   "display_name": "ap",
   "language": "python",
   "name": "python3"
  },
  "language_info": {
   "codemirror_mode": {
    "name": "ipython",
    "version": 3
   },
   "file_extension": ".py",
   "mimetype": "text/x-python",
   "name": "python",
   "nbconvert_exporter": "python",
   "pygments_lexer": "ipython3",
   "version": "3.12.2"
  }
 },
 "nbformat": 4,
 "nbformat_minor": 2
}
